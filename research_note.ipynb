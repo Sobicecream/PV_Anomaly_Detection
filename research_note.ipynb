{
 "cells": [
  {
   "cell_type": "markdown",
   "metadata": {},
   "source": [
    "# 220328 진행상황\n",
    "\n",
    "## AutoEncoder의 성능이 좋을 수록 feature의 distribution이 명확히 분리되는걸 확인해야함\n",
    "- (-> reconstruction의 성능이 어떤지 확인해보자.)\n",
    "- 명확한 가우시안 분포를 가지는 normal, abnormal site를 활용하려면?\n",
    "\n",
    "- anomaly detection의 성능 향상보다 어느 부분에서 적용될 수 있는지 생각해봐야함.\n",
    "- site 에 대한 normal 판별과 normal site만 이용한 예측의 성능향상은 너무 당연함.\n",
    "- site가 아닌 day by day관점에서 접근..\n",
    "- 정상/비정상 날들을 1년 data 중에서 판별하는 방법 -> out of distribution\n",
    "- 비정상인 날들에 대해서 눈으로 보고 비정상인게 비교가 되는건지(판단해보도록..)"
   ]
  },
  {
   "cell_type": "markdown",
   "metadata": {},
   "source": [
    "# 220404 진행상황\n",
    "\n",
    "1. Abnormal Data관련\n",
    "- ESS 때문이라면… 에너지 총량은 같을 것.\n",
    "- 일몰후에 방전중인 구간의 시간길이만 체크해도 ESS가 포함되어있다 판단할 수 있을지?\n",
    "- ESS가 있으면 빼는게 좋을지, 아니면 보정을 해야한다고 판단하는게 맞는지.\n",
    "\n",
    "2. AutoEncoder를 굳이 복잡한걸 쓰지말고(Shallow한 네트워크를 적용)\n",
    "- transformation 중에서 더 쉬운거를 적용해보아도 좋을 것 같음.\n",
    "- random matrix와 inverse matrix가 정해지면 더 간단하다고 볼 수도 있을듯"
   ]
  },
  {
   "cell_type": "markdown",
   "metadata": {},
   "source": [
    "# 220405\n",
    "\n",
    "1. VAE, GAN과 같이 결국 daily load를 generative model로 생성해내는 것 아닌가?\n",
    "\n",
    "- Given data, we can learn manifold of daily load(or yearly load) with AE, which is different from PCA that extract feature linearly.\n",
    "- With AE, it is not difficult to extract feature from input data. And also it can learn distribution for theta(parameters) with cross entropy loss by non-linear method.\n",
    "- As a result, CAE learn data's distribution (latent space) and generate forecasting result.\n",
    "- With customer's perspective, they train CAE to generate new samples from Daily Load's distribution(feature space, latent space).\n",
    "- So customer send z vectors to operator.\n",
    "- Operator's forecasting model train z vectors to predict sequential data. In this process, they can utilize Daily Load Distribution(Maybe by PCA...?).\n",
    "- 근데 그럼 data distribution이 주어졌을때, time series의 data sample이 속한 distribution 내에서 다음 sequence에 대한 예측을 distribution을 활용할 수 있을까? -> bayesian 관점에서 수식을 세워보자"
   ]
  }
 ],
 "metadata": {
  "interpreter": {
   "hash": "93e63774ae42d0a2254b8816599dff27218fc02025667dd00f4ba3bc0b60b078"
  },
  "kernelspec": {
   "display_name": "Python 3.8.12 ('py38')",
   "language": "python",
   "name": "python3"
  },
  "language_info": {
   "codemirror_mode": {
    "name": "ipython",
    "version": 3
   },
   "file_extension": ".py",
   "mimetype": "text/x-python",
   "name": "python",
   "nbconvert_exporter": "python",
   "pygments_lexer": "ipython3",
   "version": "3.7.11"
  },
  "orig_nbformat": 4
 },
 "nbformat": 4,
 "nbformat_minor": 2
}
