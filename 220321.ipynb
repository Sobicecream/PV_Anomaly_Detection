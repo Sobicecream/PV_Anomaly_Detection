{
 "cells": [
  {
   "cell_type": "markdown",
   "metadata": {},
   "source": [
    "# 220321 진행상황\n",
    "\n",
    "## 1. 이전 Curve Image와의 성능 비교\n",
    "\n",
    "\n",
    "## 2. 평가지표 (Accuracy, Precistion, Recall 등에 대한 고려)\n",
    "\n",
    "## 3. 적절한 PCA dimension에 대한 고려\n",
    "    ### 일단 잘 모르겠는게... 3 dimension으로 늘렸을때도 결과와 분포는 비슷하게 나왔지만 아직 개선정도를 확인하지 못함\n",
    "    ### 이에 대한 해결 방법으로 dunn index를 활용\n",
    "        #### Dunn Index :   밀도가 높게 나뉜 결과를 목표로 하는 지표\n",
    "        ####                군집간의 최소거리 및 최대거리의 비율로 계산\n",
    "        ####                min(dist(c1,c2)) / max(dist(c1(i),c1(j)))\n",
    "    그리고 \n"
   ]
  },
  {
   "cell_type": "code",
   "execution_count": null,
   "metadata": {},
   "outputs": [],
   "source": []
  }
 ],
 "metadata": {
  "kernelspec": {
   "display_name": "Python 2.7.0",
   "metadata": {
    "interpreter": {
     "hash": "c60d97bd0b72ef4ea0b98d103b6a63ca054e24cae3e050b8b362ed640689d9ff"
    }
   },
   "name": "python3"
  },
  "language_info": {
   "codemirror_mode": {
    "name": "ipython",
    "version": 3
   },
   "file_extension": ".py",
   "mimetype": "text/x-python",
   "name": "python",
   "nbconvert_exporter": "python",
   "pygments_lexer": "ipython3",
   "version": "3.8.2"
  },
  "orig_nbformat": 2
 },
 "nbformat": 4,
 "nbformat_minor": 2
}